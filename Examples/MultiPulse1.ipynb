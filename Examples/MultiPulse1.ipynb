{
 "cells": [
  {
   "cell_type": "markdown",
   "metadata": {},
   "source": [
    "## Multi pulse excitation\n",
    "In this Session we are explaining some more properties of the source class. \n",
    "More precisely: We are showing how one can do multi pulse excitation with \n",
    "* Certain pulse frequency until the end of the time scope of the simulation\n",
    "* Custom defined number of pulses with a set frequency \n",
    "    \n",
    "First we will import the package `NTMpy` and then work with it. \n",
    "(Even though the package `numerical units` is not a dependency, we will use it here for reasons of simplicity and to show physical dimensions.)"
   ]
  },
  {
   "cell_type": "code",
   "execution_count": 1,
   "metadata": {},
   "outputs": [],
   "source": [
    "from NTMpy import NTMpy as ntm\n",
    "from matplotlib import pyplot as plt\n",
    "import numpy as np\n",
    "import numericalunits as u\n",
    "u.reset_units('SI')"
   ]
  },
  {
   "cell_type": "code",
   "execution_count": 2,
   "metadata": {},
   "outputs": [],
   "source": [
    "#Define a Source\n",
    "s                           = ntm.source()\n",
    "s.spaceprofile              = \"TMM\"\n",
    "s.timeprofile               = \"repGaussian\"\n",
    "s.FWHM                      = 1*u.ps               #FullWidthHalfMax\n",
    "s.fluence                   = 5*u.mJ/u.cm**2       #Fluence of the Gaussian\n",
    "s.t0                        = 1*u.ps               #Peake of Gaussian\n",
    "s.lambda_vac   = 400                               #Wavelength of incident light (in nm!)\n",
    "s.theta_in     = np.pi/4                           #Incident angle\n",
    "s.polarization = \"p\"\n",
    "#Considering multiple pulses\n",
    "s.multipulse                = 'on'\n",
    "s.frequency                 = 1/(10*u.ps) "
   ]
  },
  {
   "cell_type": "markdown",
   "metadata": {},
   "source": [
    "Note, that here the only \"new\" commands in comparison to the [Getting Started](https://github.com/udcm-su/NTMpy/wiki) are: \n",
    "* `s.timeprofile = 'repGaussian'`\n",
    "* `s.multipulse  = 'on'`\n",
    "* `s.frequency   = float`"
   ]
  },
  {
   "cell_type": "markdown",
   "metadata": {},
   "source": [
    "Passing on the source to the simulation class. \n",
    "\n",
    "Note that now the input parameters are not relevant but the simulation object is just being created to maintain the workflow of this program. \n",
    "We are considering a simulation for the 2 temperature model (electron and lattice system)\n",
    "where one layer of Platinum is stacked over one layer of Cobalt. Parameters for the electron and lattice system \n",
    "are provided in the `sim.addLayer()`- function in a list form for each layer respectively."
   ]
  },
  {
   "cell_type": "code",
   "execution_count": 3,
   "metadata": {},
   "outputs": [],
   "source": [
    "#Platinum\n",
    "length_Pt   = 20*u.nm #Length of the Material\n",
    "n_Pt        = 1.0433+3.0855j #Complex refractive index\n",
    "k_el_Pt     = 73*u.W/(u.m*u.K);#Heat conductivity\n",
    "rho_Pt      = 1e3*21*u.kg/(u.m**3)#Density\n",
    "C_el_Pt     = lambda Te: (740*u.J/(u.m**3*u.K**2))/(1e3*21*u.kg/(u.m**3)) *Te #Electron heat capacity\n",
    "C_lat_Pt    = 2.8e6*u.J/(u.m**3*u.K**2)/rho_Pt#Lattice heat capacity\n",
    "G_Pt        = 1e16*25*u.W/(u.m**3*u.K)        #Lattice electron coupling constant\n",
    "#Cobalt\n",
    "length_Co   = 30*u.nm;  \n",
    "n_Co        = 1.0454+3.2169j\n",
    "k_el_Co     = 100*u.W/(u.m*u.K);\n",
    "rho_Co      = 1e3*8.86*u.kg/(u.m**3)\n",
    "C_el_Co     = lambda Te: (704*u.J/(u.m**3*u.K**2))/(1e3*8.86*u.kg/(u.m**3)) *Te\n",
    "C_lat_Co    = 4e6*u.J/(u.m**3*u.K**2)/rho_Co\n",
    "G_Co        = 1e16*93*u.W/(u.m**3*u.K)"
   ]
  },
  {
   "cell_type": "code",
   "execution_count": 4,
   "metadata": {},
   "outputs": [],
   "source": [
    "sim = ntm.simulation(2,s)\n",
    "#add parameters for both layers and both systems\n",
    "sim.addLayer(length_Pt,n_Pt,[k_el_Pt,k_el_Pt],[C_el_Pt,C_lat_Pt],rho_Pt,[G_Pt])  \n",
    "sim.addLayer(length_Co,n_Co,[k_el_Co,k_el_Co],[C_el_Co,C_lat_Co],rho_Co,G_Co) \n",
    "sim.final_time = 100*u.ps                               "
   ]
  },
  {
   "cell_type": "code",
   "execution_count": 5,
   "metadata": {},
   "outputs": [
    {
     "name": "stdout",
     "output_type": "stream",
     "text": [
      "------------------------------------------------------------\n",
      "The simulation object of the 2 temerature system has been passed on to the visual class.\n",
      "------------------------------------------------------------\n",
      "-----------------------------------------------------------\n",
      " No specific time constant has been indicated. \n",
      " The stability region has been calculated and an appropriate timestep has been chosen.\n",
      " Timestep = 2.12e-15 s\n",
      "-----------------------------------------------------------\n",
      "-----------------------------------------------------------\n",
      "Transfer matrix absorption profile and a repeated Gaussian time profile is taken into account for the source.Length of every layer has to be given in units of meter.\n",
      "-----------------------------------------------------------\n"
     ]
    },
    {
     "name": "stderr",
     "output_type": "stream",
     "text": [
      "100%|██████████████████████████████████████████████████████████████████████████| 47270/47270 [00:16<00:00, 2850.52it/s]\n"
     ]
    },
    {
     "name": "stdout",
     "output_type": "stream",
     "text": [
      "-----------------------------------------------------------\n",
      "Heat diffusion in a coupled electron-lattice system has been simulated\n",
      "Eleapsed time in E.E.- loop: 16.59856653213501\n",
      "-----------------------------------------------------------\n"
     ]
    }
   ],
   "source": [
    "#Create a visual object where the simulation gets passed on \n",
    "v = ntm.visual(sim)"
   ]
  },
  {
   "cell_type": "code",
   "execution_count": null,
   "metadata": {},
   "outputs": [
    {
     "name": "stdout",
     "output_type": "stream",
     "text": [
      "-----------------------------------------------------------\n",
      "Transfer matrix absorption profile and a repeated Gaussian time profile is taken into account for the source.Length of every layer has to be given in units of meter.\n",
      "-----------------------------------------------------------\n"
     ]
    }
   ],
   "source": [
    "#output of v.source is the full matrix of the source(x,t)\n",
    "so = v.source()"
   ]
  },
  {
   "cell_type": "markdown",
   "metadata": {},
   "source": [
    "In a second case we want to demonstrate, that the number of pulses can also be controlled."
   ]
  },
  {
   "cell_type": "code",
   "execution_count": null,
   "metadata": {},
   "outputs": [],
   "source": [
    "#Considering multiple pulses with a selected number of pulses\n",
    "s.num_of_pulses             = 2                    #Only 2 pulses "
   ]
  },
  {
   "cell_type": "code",
   "execution_count": null,
   "metadata": {},
   "outputs": [],
   "source": [
    "#Since we pass a new source we have to redefie the simulation \n",
    "sim = ntm.simulation(2,s) \n",
    "sim.addLayer(length_Pt,n_Pt,[k_el_Pt,k_el_Pt],[C_el_Pt,C_lat_Pt],rho_Pt,[G_Pt])  \n",
    "sim.addLayer(length_Co,n_Co,[k_el_Co,k_el_Co],[C_el_Co,C_lat_Co],rho_Co,G_Co) \n",
    "sim.final_time = 100*u.ps  "
   ]
  },
  {
   "cell_type": "code",
   "execution_count": null,
   "metadata": {},
   "outputs": [],
   "source": [
    "v  = ntm.visual(sim)\n",
    "so = v.source()"
   ]
  },
  {
   "cell_type": "markdown",
   "metadata": {},
   "source": [
    "We can now also look at the influence of multiple pulses on the electron and on the lattice system. \n",
    "Note that we are considering zero flux Neumann boundary conditions. This means, that there is no heat flux outside of the material under consideration. "
   ]
  },
  {
   "cell_type": "code",
   "execution_count": null,
   "metadata": {},
   "outputs": [],
   "source": [
    "v.contour('Electron')"
   ]
  },
  {
   "cell_type": "code",
   "execution_count": null,
   "metadata": {},
   "outputs": [],
   "source": [
    "v.contour('Lattice') "
   ]
  },
  {
   "cell_type": "code",
   "execution_count": null,
   "metadata": {},
   "outputs": [],
   "source": [
    "[time,Taverage] = v.average()"
   ]
  },
  {
   "cell_type": "markdown",
   "metadata": {},
   "source": [
    "To see the local absorption in space of one laser pulse, with respect to the incident powe of the laser."
   ]
  },
  {
   "cell_type": "code",
   "execution_count": null,
   "metadata": {},
   "outputs": [],
   "source": [
    "[T,R,A,absorption,xflat,grid] = v.localAbsorption()"
   ]
  }
 ],
 "metadata": {
  "kernelspec": {
   "display_name": "Python 3",
   "language": "python",
   "name": "python3"
  },
  "language_info": {
   "codemirror_mode": {
    "name": "ipython",
    "version": 3
   },
   "file_extension": ".py",
   "mimetype": "text/x-python",
   "name": "python",
   "nbconvert_exporter": "python",
   "pygments_lexer": "ipython3",
   "version": "3.7.0"
  }
 },
 "nbformat": 4,
 "nbformat_minor": 2
}
