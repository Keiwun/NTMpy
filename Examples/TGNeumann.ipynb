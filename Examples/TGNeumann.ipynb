{
 "cells": [
  {
   "cell_type": "markdown",
   "metadata": {},
   "source": [
    "## Transient Grating  Gold \n",
    "\n",
    "* The aim is to use our software and consider a transient grating on a gold material. The results are compared to \"[Non- equilibrium transient thermal grating relaxation in metal](https://aip.scitation.org/doi/abs/10.1063/1.3569731?journalCode=jap)\", _by A.A. Maznev, J.A. Johnson._\n",
    "* We consider sinusoidal heating of the electron system and a lattice system at 300K as initial condition. \n",
    "* The domain is extended periodically and Neumann boundary conditions are chosen on the left and on the right side. This is justified, since the sinusoidal temperature distribution in the beginning is chosen according to that. \n",
    "* A detailed description of the work flow is given\n",
    "* Values obtained by the simulation are in agreement with analytical results and the results/figures presented in the paper. \n",
    "* To make the simulation run, import all the packages needed: [TTMObject](https://github.com/udcm-su/heat-diffusion-1D/blob/master/Code/TTMObject.py),[Numpy](https://pypi.org/project/numpy/); [Matplotlib](https://pypi.org/project/matplotlib/) [B-splines](https://github.com/johntfoster/bspline); [Progressbar](https://pypi.org/project/tqdm/)\n",
    "\n",
    "Let us consider the following problem\n",
    "\n",
    "\\begin{equation}\n",
    "C_E\\partial_t T_E = k_E\\partial^2_x T_E + G(T_L-T_E)\n",
    "\\end{equation}\n",
    "\\begin{equation}\n",
    "C_L\\partial_t T_L = k_L\\partial^2_x T_L + G(T_E-T_L)\n",
    "\\end{equation}\n",
    "\n",
    "\n",
    "with \n",
    "$C_E = 2\\cdot 10^{4}\\,\\text{J K}^{-1}\\text{m}^{-3}$ , $C_L = 2.5\\cdot 10^{6}\\text{J K}^{-1}\\text{m}^{-3}$,\n",
    "$k_E = 3.2\\cdot 10^{+1}\\mathrm{W K^{-1} m^{-2} s^{-1}}$, $k_L = 2.75\\mathrm{W\\, K^{-1}\\, m^{-2}\\, s^{-1}}$ and\n",
    "$G=3\\cdot 10^{16}\\mathrm{W \\,K^{-1}}$\n",
    "\n",
    "Consider the following initial condition\n",
    "\n",
    "\\begin{align}\n",
    "T_E'(x,t=0) &= T_E(t)sin(qx) \\qquad\\qquad     &T_L'(x,t=0)  &= 0 \\\\\n",
    "T_E''(x,t=0)&= 600           \\qquad\\qquad     &T_L''(x,t=0) &= 300 \\\\\n",
    "T_E &= T_E' + T_E''          \\qquad\\qquad     &T_L          &= T_L' + T_L''\n",
    "\\end{align}\n",
    "\n",
    "We expect the solution to have the form\n",
    "\n",
    "\\begin{equation}\n",
    "T_E(t) = T_{E1}\\exp(-\\gamma_1t)+ T_{E2}\\exp(-\\gamma_2 t) + T_{E3}\\exp(-\\gamma_3 t) + D\n",
    "\\qquad\\qquad\n",
    "T_L(t) = T_{L1}\\exp(-\\gamma_1t)+ T_{L2}\\exp(-\\gamma_2 t) + T_{L3}\\exp(-\\gamma_3 t) + E\n",
    "\\end{equation}\n",
    "\n",
    "This can be proved analytically but the expressions of $\\gamma_1$ and $\\gamma_2$ are quite long, a simplified approximate expression is reported in \"[Non- equilibrium transient thermal grating relaxation in metal](https://aip.scitation.org/doi/abs/10.1063/1.3569731?journalCode=jap)\", _by A.A. Maznev, J.A. Johnson._\n",
    "\n",
    "The opposite of the eigenvalues $\\gamma_{1,2}=-\\lambda_{1,2}$ are also expected to be monotonically increasing functions of $q$."
   ]
  },
  {
   "cell_type": "code",
   "execution_count": 1,
   "metadata": {},
   "outputs": [],
   "source": [
    "# We First import all the Necessary Packages\n",
    "from matplotlib import pyplot as plt\n",
    "import numpy as np\n",
    "from TTMObject import *"
   ]
  },
  {
   "cell_type": "code",
   "execution_count": 2,
   "metadata": {},
   "outputs": [],
   "source": [
    "# We define all the material parameters\n",
    "L  = 1e-6      # Length of the Grating\n",
    "Ce = 2e+4      # Specific Heat Electrons\n",
    "Cl = 2.5e6     # Specific Heat Lattice\n",
    "ke = 3.2e+1    # Conductivity Electrons\n",
    "kl = 2.75      # Conductivity Lattica\n",
    "G  = 3e+16     #Exchange constant"
   ]
  },
  {
   "cell_type": "markdown",
   "metadata": {},
   "source": [
    "__Some consideration on the model and the problem considered__:\n",
    "\n",
    "- Density is not considered in the model, hence we have to consider $\\rho=1$ in the layer properties definition\n",
    "\n",
    "\n",
    "- Boundary condition are needed, let us imagine we have an infinitely long material $X=\\mathbb{R}$, because of symmetries we can assume that the solution is periodic. We can then limit our problem to a single layer with zero flux Neumann boundary conditions on both sides. \n",
    "  \n",
    "  (Note that the initial condition, a sinusoidal heat distribution on the electronic system is selected, such that peak of the temperature is on the edges, and hence $\\partial_x T(x=0,t) = \\partial_x T(x=L,t) = 0 $)"
   ]
  },
  {
   "cell_type": "code",
   "execution_count": 3,
   "metadata": {
    "scrolled": true
   },
   "outputs": [],
   "source": [
    "# Place Holder Source\n",
    "s           = source()\n",
    "s.optical_penetration_depth = 1 # can we use  a default value ? \n",
    "s.FWHM = 1 # can we use a default value ?\n",
    "s.fluence   = 0\n",
    "# Define Simulation\n",
    "sim         = simulation(2,s)\n",
    "# Define Initial Conditions\n",
    "#This is a sinusoidal distribution with its maximum on the edge -> no flux on the edge -> Neumann condition\n",
    "sim.temp_data.init     = lambda x: 600 + 300*np.cos(2*np.pi*x/L)\n",
    "#The lattice stays at room temperatuer on the whole domain\n",
    "sim.temp_data_Lat.init = 300\n",
    "# Define Times\n",
    "sim.final_time = 2e-9\n",
    "#Manually set the timestep a bit below the recommendet timestep for stability to capture fast relaxation dynamics\n",
    "sim.time_step  = 1.5e-13\n",
    "# Define Material\n",
    "sim.addLayer(L, [ke, kl], [Ce, Cl], 1, [G])"
   ]
  },
  {
   "cell_type": "code",
   "execution_count": 4,
   "metadata": {},
   "outputs": [
    {
     "name": "stdout",
     "output_type": "stream",
     "text": [
      "-----------------------------------------------------------\n",
      "The maunually chosen time step of 1.50e-13 is very small and will eventually cause a long simulation time.\n",
      "We suggest a timestep of 6.50e-13 s\n",
      "-----------------------------------------------------------\n",
      "-----------------------------------------------------------\n",
      "Gaussian source type is applied\n",
      "-----------------------------------------------------------\n"
     ]
    },
    {
     "name": "stderr",
     "output_type": "stream",
     "text": [
      "100%|██████████████████████████████████████████████████████████████████████████| 13333/13333 [00:03<00:00, 4037.16it/s]\n"
     ]
    },
    {
     "name": "stdout",
     "output_type": "stream",
     "text": [
      "-----------------------------------------------------------\n",
      "Heat diffusion in a coupled electron-lattice system has been simulated\n",
      "Eleapsed time in E.E.- loop: 3.318164348602295\n",
      "-----------------------------------------------------------\n"
     ]
    }
   ],
   "source": [
    "# RUN THE SIMULATION\n",
    "[Te, Tl, x, t] = sim.run() "
   ]
  },
  {
   "cell_type": "code",
   "execution_count": 5,
   "metadata": {},
   "outputs": [
    {
     "name": "stdout",
     "output_type": "stream",
     "text": [
      "times of the first plot:\t[0.0e+00 1.5e-13 3.0e-13 4.5e-13]\n",
      "times of the second plot:\t[3.0e-11 6.0e-11 9.0e-11 1.2e-10]\n"
     ]
    },
    {
     "data": {
      "image/png": "[encoded data removed]",
      "text/plain": [
       "<Figure size 432x288 with 1 Axes>"
      ]
     },
     "metadata": {
      "needs_background": "light"
     },
     "output_type": "display_data"
    },
    {
     "data": {
      "image/png": "[encoded data removed]",
      "text/plain": [
       "<Figure size 432x288 with 1 Axes>"
      ]
     },
     "metadata": {
      "needs_background": "light"
     },
     "output_type": "display_data"
    }
   ],
   "source": [
    "# Plot with the fast time dynamic\n",
    "print(\"times of the first plot:\\t\" + str(t[0:4]))\n",
    "plt.figure()\n",
    "plt.title(\"Fast relaxation dynamics of the first time steps\")\n",
    "plt.xlabel(\"Surface (m)\"); plt.ylabel(\"Temperature (K)\")\n",
    "plt.plot(x,Te[0,:],\"r\",label = \"$T_e$\")\n",
    "plt.plot(x,Tl[0,:],\"k--\",label = \"$T_l$\")\n",
    "for i in range(1,4): \n",
    "    plt.plot(x,Te[i,:],\"r\")\n",
    "    plt.plot(x,Tl[i,:],\"k--\")\n",
    "plt.legend()\n",
    "plt.grid()\n",
    "# Plot the slow time dynamic\n",
    "print(\"times of the second plot:\\t\" + str(t[200:801:200]))\n",
    "\n",
    "plt.figure()\n",
    "plt.title(\"Slow time dynamics\")\n",
    "plt.xlabel(\"Surface (m)\"); plt.ylabel(\"Temperature (K)\")\n",
    "plt.plot(x,Te[200,:],\"r\",label = \"$T_e$\")\n",
    "plt.plot(x,Tl[200,:],\"k--\",label = \"$T_l$\")\n",
    "for i in range(1,4): \n",
    "    plt.plot(x,Te[i*200,:],\"r\")\n",
    "    plt.plot(x,Tl[i*200,:],\"k--\")\n",
    "plt.legend()\n",
    "plt.grid()"
   ]
  },
  {
   "cell_type": "markdown",
   "metadata": {},
   "source": [
    "After seeing that the fast relaxation time dynamics are over, just after around 0.5 ps we select one point in space and observe the damping of the amplitude. This corresponds to a diffusion process, i.e. slow dynamics.\n",
    "\n",
    "Therefor we select the index, where the amplitude shows a maximum and observe the decay over time. Note that one could also select another point in space and observe the same thing, just that the temperature would rise then rise in this point.\n",
    "\n",
    "We skip the first points in time to only depict the slow diffusion dynamics. "
   ]
  },
  {
   "cell_type": "code",
   "execution_count": 6,
   "metadata": {},
   "outputs": [
    {
     "data": {
      "image/png": "[encoded data removed]",
      "text/plain": [
       "<Figure size 432x288 with 1 Axes>"
      ]
     },
     "metadata": {
      "needs_background": "light"
     },
     "output_type": "display_data"
    }
   ],
   "source": [
    "# Find the peak index (its value coincide with the sine amplitude)\n",
    "index = np.where(Te[0,:] == max(Te[0,:]))[0][0]\n",
    "#Note: One can also select any other index, i.e. the point in the middle: index = 12\n",
    "skip = 25\n",
    "# Plot in time\n",
    "plt.figure()\n",
    "plt.title(\"Slow diffusion dynamics at a selected point in space\")\n",
    "plt.xlabel(\"Time in (s)\"); plt.ylabel(\"Temperature $T(x_0,t) in (K)$\") \n",
    "plt.plot(t[skip:], Te[skip:, index],label = \"$T_e$\")\n",
    "plt.plot(t[skip:], Tl[skip:, index],label = \"$T_l$\")\n",
    "plt.legend()\n",
    "plt.grid()"
   ]
  },
  {
   "cell_type": "markdown",
   "metadata": {},
   "source": [
    "**Consideration on the Plots**:\n",
    "\n",
    "As we can see from the plots there are two extremely different time scales, i.e. $\\gamma_1\\gg\\gamma_2$, hence after a short time we can only see one exponential since the other one dies exremely fast.\n",
    "\n",
    "We can verify with the analytical formulas, no curve fit package is really necessary since we won't use the time constant as a fitting parameter.\n"
   ]
  },
  {
   "cell_type": "markdown",
   "metadata": {},
   "source": [
    "**Consideration on the Analytic Comparison**:\n",
    "\n",
    "There exist two possible way to make this comparison\n",
    "\n",
    "- Try to fit a curve and graphically visualize if they overlap\n",
    "\n",
    "- Calculate analitically and numerically the time constants, then evaluate the numeric difference\n"
   ]
  },
  {
   "cell_type": "markdown",
   "metadata": {},
   "source": [
    "**Analytical Value**\n",
    "\n",
    "As reported in the article \"[Non- equilibrium transient thermal grating relaxation in metal](https://aip.scitation.org/doi/abs/10.1063/1.3569731?journalCode=jap)\", the values of $\\gamma_{1,2}$ can be obtained by solving\n",
    "\n",
    "\\begin{equation}\n",
    "\\gamma^2+\n",
    "\\left[\\left(\\frac{k_E}{C_E}+\\frac{k_L}{C_L}\\right)q^2+G\\left(\\frac{1}{C_E}+\\frac{1}{C_L}\\right)\\right]\\gamma+\n",
    "G\\frac{k_E+k_L}{C_E+C_L}q^2+q^4\\frac{k_Ek_L}{C_EC_L} = 0\n",
    "\\end{equation}\n",
    "where $q$ is the qave number of the grating and $k_{e,l},C_{e,l}$ are the heat conductivity and heat capacity of the respective systm."
   ]
  },
  {
   "cell_type": "code",
   "execution_count": 7,
   "metadata": {},
   "outputs": [],
   "source": [
    "# Define the wavenumber acording to the grating period\n",
    "q = 2*np.pi/L\n",
    "# Find Analitical Values of gamma1 and gamma2\n",
    "A = 1; B = (ke/Ce+kl/Cl)*q**2 + G*(1/Ce+1/Cl)\n",
    "C = G*(ke+kl)*q**2/(Ce*Cl) + q**4*(ke*kl)/(Ce*Cl)\n",
    "# Resolutive formula for 2nd grade equations\n",
    "delta = B**2-4*A*C\n",
    "gamma1AN = - (-B-np.sqrt(delta))/2\n",
    "gamma2AN = - (-B+np.sqrt(delta))/2"
   ]
  },
  {
   "cell_type": "markdown",
   "metadata": {},
   "source": [
    "**How do we extimate gamma from the numerical solution?**\n",
    "\n",
    "- **Method 1: Using the derivative**\n",
    "\n",
    "the derivative of an exponential is $\\partial_t (Ae^{-\\gamma t})=-A\\gamma e^{-\\gamma t}$, hence by calculating numerically the derivative one gets\n",
    "\n",
    "$$\n",
    "\\gamma \\approx -\\frac{T(t+\\Delta t)-T(t)}{T(t)\\Delta t}\n",
    "$$\n",
    "\n",
    "- *Including the offset*\n",
    "Note, that in this specific setting, we are neither considering symmetric around 300K sinusoidal initial conditions, see $T'(x,t=0)$, nor are we considering flat, see $T''(x,t=0)$ bondary conditions, but a mix of them. $T(x,t=0) = T'(x,t=0)+T''(x,t=0)$.\n",
    "\n",
    "This leads to the fact that we can see an evolution in time of the temperature, according to $T'$ and one of the mean between the two, because of the presence of $T''$.\n",
    "\n",
    "We can now adapt our numerical solution accordingly: \n",
    "\\begin{align}\n",
    "    T_e(t) = Ae^{-\\gamma t} \\\\ \n",
    "    \\tilde{T}_e(t) = Ae^{-\\gamma t} + m(t) = T_e(t) + m(t)\n",
    "\\end{align}\n",
    "Where $\\tilde{T}_e(t)$ is the actual solution we are obtaining by the initial conditions that were chosen, such that $m(t)$ represents the mean value of the temperature over space at time $t$. Taking the derivative leads to\n",
    "\\begin{align}\n",
    "    \\partial_t \\tilde{T}_e(t) &= -\\gamma Ae^{-\\gamma t}+\\partial_t m(t) = -\\gamma T_e(t) + \\partial_t m(t) \\text{   such that} \\\\\n",
    "    \\gamma &= -\\frac{\\partial_t \\tilde{T}_e(t)-\\partial_t m(t)}{T_e(t)}\n",
    "\\end{align}\n",
    "using, that $T_e(t) = \\tilde{T}_e(t)-m(t)$ we can numerricaly take the derivative via central differences and obtain a solution according to \n",
    "\\begin{align}\n",
    "    \\gamma = -\\frac{\\tilde{T}_e(t+\\Delta t)-m(t + \\Delta t)-\\tilde{T}_e(t)+m(t)}{\\Delta t (\\tilde{T}_e(t)-m(t))}\n",
    "\\end{align}\n",
    "\n",
    "\n",
    "- **Method 2: Using the ratio**\n",
    "\n",
    "according to our ansatz the ratio between temperature at two different times gives\n",
    "\n",
    "$$\n",
    "\\frac{T(t+\\Delta t)}{T(t)} \\approx \\frac{Ae^{-\\gamma (t+\\Delta t)}}{Ae^{-\\gamma t}}=e^{-\\gamma \\Delta t}\\implies \\gamma \\approx \n",
    "-\\frac{1}{\\Delta t}\\log\\frac{T(t+\\Delta t)}{T(t)}\n",
    "$$\n",
    "\n",
    "Now note that using the initial conditions chosen we obtain solutions of the form $\\tilde{T}(t) = T(t) + m(t)$, such that we can extract the parameter $\\gamma$ by \n",
    "\\begin{align}\n",
    "    \\gamma \\approx \n",
    "-\\frac{1}{\\Delta t}\\log\\frac{T(t+\\Delta t)-m(t+\\Delta t)}{T(t)- m(t)}\n",
    "\\end{align}\n",
    "\n",
    "We will use this method only for the slow time constant since the time step chosen may not accurately reproduce the fastest modes. (The timestep can be modified by setting `sim.time_step  = value`, where `value` has to be smaller than the suggested stability limit of the algorithm.)\n",
    "\n",
    "Note that these two methods work for every $t$, hence it can also be used to verify the Ansatz, with respect to the fast modes and to obtain $\\gamma_1$, which is the coefficient of the fast time dynamics. \n",
    "\n",
    "Note that, if one time coefficient $\\gamma_1$ or $\\gamma_2$ has to be extracted in an isolated way, the regime which is under consideration has to be selected, such that no _perturbation_ from the other time constant. \n",
    "\n",
    "That is, if $\\gamma_1$ should be obtained, then one should look at times $t\\in \\approx [0,0.5]ps$. Where as, if the slow diffusive time constant $\\gamma_2$ is under investigation, one should look at a regime $t\\in \\approx[2,1000]ps$\n",
    "\n",
    "If some time in between is selected, the value obtained, $\\bar{\\gamma}$ will be a mix of the two time constants. That is $\\gamma_2<\\bar{\\gamma}<\\gamma_1$.  "
   ]
  },
  {
   "cell_type": "code",
   "execution_count": 8,
   "metadata": {},
   "outputs": [
    {
     "name": "stdout",
     "output_type": "stream",
     "text": [
      "Analytic value of gamma:    524465748.19299316\n",
      "Numeric (1) value of gamma: 549323130.2405853\n",
      "Numeric (2) value of gamma: 549345763.1762959\n"
     ]
    }
   ],
   "source": [
    "#Look at a gamma mix, i.e. some perturbation from the fast dynamics\n",
    "dt = sim.time_step\n",
    "t0 = 60\n",
    "gamma2NUM_der = -(Te[t0+1, index]-np.mean(Te[t0+1,:])-Te[t0, index]+np.mean(Te[t0,:]))/(dt*(Te[t0, index]-np.mean(Te[t0,:])))\n",
    "gamma2NUM_rat = -np.log((Te[t0+1, index]-np.mean(Te[t0+1,:]))/(Te[t0, index]-np.mean(Te[t0,:])))/dt\n",
    "\n",
    "print(\"Analytic value of gamma:    \" + str(gamma2AN))\n",
    "print(\"Numeric (1) value of gamma: \" + str(gamma2NUM_der))\n",
    "print(\"Numeric (2) value of gamma: \" + str(gamma2NUM_rat))"
   ]
  },
  {
   "cell_type": "code",
   "execution_count": 9,
   "metadata": {},
   "outputs": [
    {
     "name": "stdout",
     "output_type": "stream",
     "text": [
      "Analytic value of gamma:    524465748.19299316\n",
      "Numeric (1) value of gamma: 528634577.72964334\n",
      "Numeric (2) value of gamma: 528655537.9267965\n",
      "Paper Result eq(11) :       486659073.2069076\n"
     ]
    }
   ],
   "source": [
    "# Let's try again with a greater t0, maybe the fast transient is not completely ended\n",
    "dt = sim.time_step\n",
    "t0 = 1000\n",
    "gamma2NUM_der = -(Te[t0+1, index]-np.mean(Te[t0+1,:])-Te[t0, index]+np.mean(Te[t0,:]))/(dt*(Te[t0, index]-np.mean(Te[t0,:])))\n",
    "gamma2NUM_rat = -np.log((Te[t0+1, index]-np.mean(Te[t0+1,:]))/(Te[t0, index]-np.mean(Te[t0,:])))/dt\n",
    "\n",
    "ae = ke/Ce; al = kl/Cl;\n",
    "print(\"Analytic value of gamma:    \" + str(gamma2AN))\n",
    "print(\"Numeric (1) value of gamma: \" + str(gamma2NUM_der))\n",
    "print(\"Numeric (2) value of gamma: \" + str(gamma2NUM_rat))\n",
    "print(\"Paper Result eq(11) :       \" + str(ae*q**2*(al*q**2+G/Cl)/(ae*q**2+G/Ce)))"
   ]
  },
  {
   "cell_type": "markdown",
   "metadata": {},
   "source": [
    "Now that the fast dynamics are over, the numerical results obtained by both of the methods, matches very well with the analytical result. \n",
    "\n",
    "Here we are also comparing it to the result of \"[Non- equilibrium transient thermal grating relaxation in metal](https://aip.scitation.org/doi/abs/10.1063/1.3569731?journalCode=jap)\", and see, that our findings are in _agreement_. \n",
    "Note that the slight difference can be explained, due to the fact that in the paper certain approximations,$C_e<<C_l$, are made, in order to simplify the reslult. "
   ]
  },
  {
   "cell_type": "markdown",
   "metadata": {},
   "source": [
    "**Plot Comparison**\n",
    "\n",
    "For the curve fit we consider a funtion like\n",
    "\n",
    "$$\n",
    "f(t,[a]) = a\\exp(-\\gamma_2 t)\n",
    "$$\n",
    "\n",
    "where only $a$ is a fitting parameter, indeed the fitting has more sense the less are the free parameters used.\n",
    "\n",
    "If we only look for a qualitative comparison one can attempt to find $a$ by imposing the equality of the fitting curve and numerical curve in one point arbitrarily chosen\n",
    "\n",
    "$$\n",
    "A\\exp(-\\gamma_2 t_0) + m(t) = \\tilde{T}(t_0) \\implies A = (\\tilde{T}(t_0)-m(t_0))\\exp(\\gamma_2 t_0)\n",
    "$$"
   ]
  },
  {
   "cell_type": "code",
   "execution_count": 10,
   "metadata": {},
   "outputs": [
    {
     "data": {
      "image/png": "[encoded data removed]",
      "text/plain": [
       "<Figure size 432x288 with 1 Axes>"
      ]
     },
     "metadata": {
      "needs_background": "light"
     },
     "output_type": "display_data"
    }
   ],
   "source": [
    "# time offset to extinguish the faster transient\n",
    "t0 = 2000; \n",
    "# Proportionality constants\n",
    "ae = (Te[t0, index]-np.mean(Te[t0,:]))*np.exp(gamma2AN*t[t0])\n",
    "al = (Tl[t0, index]-np.mean(Te[t0,:]))*np.exp(gamma2AN*t[t0])\n",
    "# Fitted* exponential\n",
    "fit_e = ae*np.exp(-gamma2AN*t)+np.mean(Te[t0,:])\n",
    "fit_l = al*np.exp(-gamma2AN*t)+np.mean(Te[t0,:])\n",
    "# Plots\n",
    "plt.figure()\n",
    "plt.title(\"Comparing simulation to analytical result\")\n",
    "plt.xlabel(\"Time in (s)\"); plt.ylabel(\"Temperature in (K)\")\n",
    "plt.plot(t[skip:], Te[skip:, index],label = \"Solution $T_e$\")\n",
    "plt.plot(t[skip:], fit_e[skip:],'--',label = \"Fit $T_e$\")\n",
    "plt.plot(t[skip:], Tl[skip:, index],label = \"Solution $T_l$\")\n",
    "plt.plot(t[skip:], fit_l[skip:],'--',label = \"Fit $T_e$\")\n",
    "plt.legend()\n",
    "plt.grid()"
   ]
  },
  {
   "cell_type": "markdown",
   "metadata": {},
   "source": [
    "**What else can be done**\n",
    "\n",
    "- I didn't verify the dependence of $\\gamma$ on $q$\n",
    "\n",
    "- I didn't verify how good are the approximated formulas given in the paper\n",
    "\n",
    "- I have no idea why the plots in the paper are so different in terms of time constants\n",
    "\n",
    "- Check if this works also with physically realistic initial values of temperatures (Dirichlet boundary condition no more applicable)"
   ]
  },
  {
   "cell_type": "code",
   "execution_count": 11,
   "metadata": {
    "scrolled": false
   },
   "outputs": [
    {
     "name": "stdout",
     "output_type": "stream",
     "text": [
      "-----------------------------------------------------------\n",
      " No specific time constant has been indicated. \n",
      " The stability region has been calculated and an appropriate timestep has been chosen.\n",
      " Timestep = 1.27e-12 s\n",
      "-----------------------------------------------------------\n",
      "-----------------------------------------------------------\n",
      "Gaussian source type is applied\n",
      "-----------------------------------------------------------\n"
     ]
    },
    {
     "name": "stderr",
     "output_type": "stream",
     "text": [
      "100%|██████████████████████████████████████████████████████████████████████████████| 393/393 [00:00<00:00, 3593.14it/s]\n"
     ]
    },
    {
     "name": "stdout",
     "output_type": "stream",
     "text": [
      "-----------------------------------------------------------\n",
      "Heat diffusion in a coupled electron-lattice system has been simulated\n",
      "Eleapsed time in E.E.- loop: 0.1093752384185791\n",
      "-----------------------------------------------------------\n",
      "-----------------------------------------------------------\n",
      " No specific time constant has been indicated. \n",
      " The stability region has been calculated and an appropriate timestep has been chosen.\n",
      " Timestep = 4.86e-13 s\n",
      "-----------------------------------------------------------\n",
      "-----------------------------------------------------------\n",
      "Gaussian source type is applied\n",
      "-----------------------------------------------------------\n"
     ]
    },
    {
     "name": "stderr",
     "output_type": "stream",
     "text": [
      "100%|████████████████████████████████████████████████████████████████████████████| 1028/1028 [00:00<00:00, 2861.23it/s]\n"
     ]
    },
    {
     "name": "stdout",
     "output_type": "stream",
     "text": [
      "-----------------------------------------------------------\n",
      "Heat diffusion in a coupled electron-lattice system has been simulated\n",
      "Eleapsed time in E.E.- loop: 0.359285831451416\n",
      "-----------------------------------------------------------\n",
      "-----------------------------------------------------------\n",
      " No specific time constant has been indicated. \n",
      " The stability region has been calculated and an appropriate timestep has been chosen.\n",
      " Timestep = 1.93e-13 s\n",
      "-----------------------------------------------------------\n",
      "-----------------------------------------------------------\n",
      "Gaussian source type is applied\n",
      "-----------------------------------------------------------\n"
     ]
    },
    {
     "name": "stderr",
     "output_type": "stream",
     "text": [
      "100%|████████████████████████████████████████████████████████████████████████████| 2596/2596 [00:00<00:00, 4154.33it/s]\n"
     ]
    },
    {
     "name": "stdout",
     "output_type": "stream",
     "text": [
      "-----------------------------------------------------------\n",
      "Heat diffusion in a coupled electron-lattice system has been simulated\n",
      "Eleapsed time in E.E.- loop: 0.6404788494110107\n",
      "-----------------------------------------------------------\n",
      "-----------------------------------------------------------\n",
      " No specific time constant has been indicated. \n",
      " The stability region has been calculated and an appropriate timestep has been chosen.\n",
      " Timestep = 9.81e-14 s\n",
      "-----------------------------------------------------------\n",
      "-----------------------------------------------------------\n",
      "Gaussian source type is applied\n",
      "-----------------------------------------------------------\n"
     ]
    },
    {
     "name": "stderr",
     "output_type": "stream",
     "text": [
      "100%|████████████████████████████████████████████████████████████████████████████| 5095/5095 [00:01<00:00, 3980.24it/s]\n"
     ]
    },
    {
     "name": "stdout",
     "output_type": "stream",
     "text": [
      "-----------------------------------------------------------\n",
      "Heat diffusion in a coupled electron-lattice system has been simulated\n",
      "Eleapsed time in E.E.- loop: 1.280074119567871\n",
      "-----------------------------------------------------------\n",
      "-----------------------------------------------------------\n",
      " No specific time constant has been indicated. \n",
      " The stability region has been calculated and an appropriate timestep has been chosen.\n",
      " Timestep = 5.86e-14 s\n",
      "-----------------------------------------------------------\n",
      "-----------------------------------------------------------\n",
      "Gaussian source type is applied\n",
      "-----------------------------------------------------------\n"
     ]
    },
    {
     "name": "stderr",
     "output_type": "stream",
     "text": [
      "100%|████████████████████████████████████████████████████████████████████████████| 8526/8526 [00:02<00:00, 4174.42it/s]\n"
     ]
    },
    {
     "name": "stdout",
     "output_type": "stream",
     "text": [
      "-----------------------------------------------------------\n",
      "Heat diffusion in a coupled electron-lattice system has been simulated\n",
      "Eleapsed time in E.E.- loop: 2.042438507080078\n",
      "-----------------------------------------------------------\n",
      "-----------------------------------------------------------\n",
      " No specific time constant has been indicated. \n",
      " The stability region has been calculated and an appropriate timestep has been chosen.\n",
      " Timestep = 3.88e-14 s\n",
      "-----------------------------------------------------------\n",
      "-----------------------------------------------------------\n",
      "Gaussian source type is applied\n",
      "-----------------------------------------------------------\n"
     ]
    },
    {
     "name": "stderr",
     "output_type": "stream",
     "text": [
      "100%|██████████████████████████████████████████████████████████████████████████| 12888/12888 [00:03<00:00, 4223.18it/s]\n"
     ]
    },
    {
     "name": "stdout",
     "output_type": "stream",
     "text": [
      "-----------------------------------------------------------\n",
      "Heat diffusion in a coupled electron-lattice system has been simulated\n",
      "Eleapsed time in E.E.- loop: 3.0517256259918213\n",
      "-----------------------------------------------------------\n",
      "-----------------------------------------------------------\n",
      " No specific time constant has been indicated. \n",
      " The stability region has been calculated and an appropriate timestep has been chosen.\n",
      " Timestep = 2.75e-14 s\n",
      "-----------------------------------------------------------\n",
      "-----------------------------------------------------------\n",
      "Gaussian source type is applied\n",
      "-----------------------------------------------------------\n"
     ]
    },
    {
     "name": "stderr",
     "output_type": "stream",
     "text": [
      "100%|██████████████████████████████████████████████████████████████████████████| 18182/18182 [00:04<00:00, 4471.69it/s]\n"
     ]
    },
    {
     "name": "stdout",
     "output_type": "stream",
     "text": [
      "-----------------------------------------------------------\n",
      "Heat diffusion in a coupled electron-lattice system has been simulated\n",
      "Eleapsed time in E.E.- loop: 4.066020250320435\n",
      "-----------------------------------------------------------\n",
      "-----------------------------------------------------------\n",
      " No specific time constant has been indicated. \n",
      " The stability region has been calculated and an appropriate timestep has been chosen.\n",
      " Timestep = 2.05e-14 s\n",
      "-----------------------------------------------------------\n",
      "-----------------------------------------------------------\n",
      "Gaussian source type is applied\n",
      "-----------------------------------------------------------\n"
     ]
    },
    {
     "name": "stderr",
     "output_type": "stream",
     "text": [
      "100%|██████████████████████████████████████████████████████████████████████████| 24407/24407 [00:05<00:00, 4439.51it/s]\n"
     ]
    },
    {
     "name": "stdout",
     "output_type": "stream",
     "text": [
      "-----------------------------------------------------------\n",
      "Heat diffusion in a coupled electron-lattice system has been simulated\n",
      "Eleapsed time in E.E.- loop: 5.513308525085449\n",
      "-----------------------------------------------------------\n",
      "-----------------------------------------------------------\n",
      " No specific time constant has been indicated. \n",
      " The stability region has been calculated and an appropriate timestep has been chosen.\n",
      " Timestep = 1.58e-14 s\n",
      "-----------------------------------------------------------\n",
      "-----------------------------------------------------------\n",
      "Gaussian source type is applied\n",
      "-----------------------------------------------------------\n"
     ]
    },
    {
     "name": "stderr",
     "output_type": "stream",
     "text": [
      "100%|██████████████████████████████████████████████████████████████████████████| 31563/31563 [00:06<00:00, 4557.09it/s]\n"
     ]
    },
    {
     "name": "stdout",
     "output_type": "stream",
     "text": [
      "-----------------------------------------------------------\n",
      "Heat diffusion in a coupled electron-lattice system has been simulated\n",
      "Eleapsed time in E.E.- loop: 6.926126718521118\n",
      "-----------------------------------------------------------\n",
      "-----------------------------------------------------------\n",
      " No specific time constant has been indicated. \n",
      " The stability region has been calculated and an appropriate timestep has been chosen.\n",
      " Timestep = 1.26e-14 s\n",
      "-----------------------------------------------------------\n",
      "-----------------------------------------------------------\n",
      "Gaussian source type is applied\n",
      "-----------------------------------------------------------\n"
     ]
    },
    {
     "name": "stderr",
     "output_type": "stream",
     "text": [
      "100%|██████████████████████████████████████████████████████████████████████████| 39651/39651 [00:09<00:00, 4401.90it/s]\n"
     ]
    },
    {
     "name": "stdout",
     "output_type": "stream",
     "text": [
      "-----------------------------------------------------------\n",
      "Heat diffusion in a coupled electron-lattice system has been simulated\n",
      "Eleapsed time in E.E.- loop: 9.007694721221924\n",
      "-----------------------------------------------------------\n"
     ]
    }
   ],
   "source": [
    "# Run several simulations with different initial condition\n",
    "gamma_sim = []\n",
    "gamma_ana = []\n",
    "gamma_pap = []\n",
    "gamma_cla = []\n",
    "\n",
    "qspan = np.linspace(2e5,1e7,10)\n",
    "for i in range(0,len(qspan)):\n",
    "    q = qspan[i]\n",
    "    L = 1/q\n",
    "    sim         = simulation(2,s)\n",
    "    # Define Initial Conditions\n",
    "    sim.temp_data.init     = lambda x: 600 + 300*np.cos(2*np.pi*x/L)\n",
    "    sim.temp_data_Lat.init = 300\n",
    "    # Define Times\n",
    "    sim.final_time = .5e-9\n",
    "    # Define Material\n",
    "    sim.addLayer(L, [ke, kl], [Ce, Cl], 1, [G])\n",
    "    # Run Simulation\n",
    "    sim.run()\n",
    "    # Computate Gamma Numerical value\n",
    "    dt = sim.time_step\n",
    "    gamma_sim.append(-np.log((Te[-1, index]-np.mean(Te[-1,:]))/(Te[-2, index]-np.mean(Te[-2,:])))/dt)"
   ]
  },
  {
   "cell_type": "code",
   "execution_count": 12,
   "metadata": {},
   "outputs": [
    {
     "data": {
      "image/png": "[encoded data removed]",
      "text/plain": [
       "<Figure size 432x288 with 1 Axes>"
      ]
     },
     "metadata": {
      "needs_background": "light"
     },
     "output_type": "display_data"
    }
   ],
   "source": [
    "# Plot\n",
    "gamma_sim = np.asarray(gamma_sim)\n",
    "#converting units\n",
    "qspan_um = qspan*1e-6 \n",
    "gamma_sim_nm = gamma_sim*1e-9\n",
    "\n",
    "plt.figure()\n",
    "plt.title(\"Dependency of $\\gamma$ with respect to $q$\")\n",
    "plt.xlabel(\"q in ($\\mu$m$^{-1}$)\"); plt.ylabel(\"$\\gamma$ in (ns$^{-1}$)\")\n",
    "plt.plot(qspan_um, gamma_sim_nm,label = \"Simulation\")\n",
    "plt.legend()\n",
    "plt.grid();\n",
    "plt.show();"
   ]
  }
 ],
 "metadata": {
  "kernelspec": {
   "display_name": "Python 3",
   "language": "python",
   "name": "python3"
  },
  "language_info": {
   "codemirror_mode": {
    "name": "ipython",
    "version": 3
   },
   "file_extension": ".py",
   "mimetype": "text/x-python",
   "name": "python",
   "nbconvert_exporter": "python",
   "pygments_lexer": "ipython3",
   "version": "3.7.0"
  }
 },
 "nbformat": 4,
 "nbformat_minor": 2
}
