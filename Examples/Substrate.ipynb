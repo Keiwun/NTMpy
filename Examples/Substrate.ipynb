{
 "cells": [
  {
   "cell_type": "markdown",
   "metadata": {},
   "source": [
    "## Accounting for substrate\n",
    "\n",
    "Often in heat diffusion settings, the substrate is disregarded and only the target layer is considered. We suggest to also account for the substate since it is an important channel for heat diffusion and therefore influences the dynamics of the target layer to a large extent. \n",
    "\n",
    "However, we want to note, that if the parameters for the substrate layer are not available, then one can think of changing the boundary condition on the right-hand side to *Neumann*- type. \n",
    "This can be done via: \n",
    "\n",
    "`\n",
    "sim.changeBC_Type(system1,\"right\",\"neumann\")\n",
    "sim.changeBC_Type(system2,\"right\",\"neumann\")\n",
    "sim.changeBC_Value(system1,\"right\",1)\n",
    "sim.changeBC_Value(system2,\"right\",1)\n",
    "`\n",
    "\n",
    "The advantage of this method is that we can create a heat flux directed outward of the target material by imposing a certain flux on the boundary. The disadvantage is, that we have no precise knowledge about the value of the imposed flux, hence setting it here to `1` is just an arbitrary choice. \n",
    "\n",
    "This is why we **recommend the following**:\n",
    "* Set up a 2TM simulation for two layers\n",
    "* Account for the substrate with a high spatial resolution at the target- substrate edge and then decrease the number of interpolation points with the distance to the target layer.\n",
    "\n",
    "### Aim \n",
    "\n",
    "* Perform simulations and analyze the effect of the substrate\n",
    "* Suggest one way to \"correctly\" implement the substrate\n",
    "\n",
    "As always, the workflow is **Source** $\\rightarrow$ **Simulation** $\\rightarrow$ **Visualization**"
   ]
  },
  {
   "cell_type": "code",
   "execution_count": 1,
   "metadata": {},
   "outputs": [],
   "source": [
    "from NTMpy import NTMpy as ntm\n",
    "import numpy as np\n",
    "from matplotlib import pyplot as plt\n",
    "import numericalunits as u\n",
    "u.reset_units('SI')"
   ]
  },
  {
   "cell_type": "markdown",
   "metadata": {},
   "source": [
    "### Define a Source"
   ]
  },
  {
   "cell_type": "code",
   "execution_count": 2,
   "metadata": {},
   "outputs": [],
   "source": [
    "s                           = ntm.source()\n",
    "s.spaceprofile              = \"TMM\"\n",
    "s.timeprofile               = \"Gaussian\"\n",
    "# Set the Full Width at Half Maximum (width of the Gaussian)\n",
    "s.FWHM          = 0.1*u.ps \n",
    "# Set the fluence of the laser pulse (area under the Gaussian)\n",
    "s.fluence       = 6*u.mJ/u.cm**2 \n",
    "# Set the time of the Gaussian peak \n",
    "s.t0            = 1*u.ps   \n",
    "# Set the wavelength in vacuum in nm\n",
    "s.lambda_vac    = 400   \n",
    "#Set the incident angle in rad (0 is perpendicular to the surface)\n",
    "s.theta_in      = np.pi/4  \n",
    "s.polarization  = 'p'"
   ]
  },
  {
   "cell_type": "markdown",
   "metadata": {},
   "source": [
    "### Parameters Pt and Si- materials"
   ]
  },
  {
   "cell_type": "code",
   "execution_count": 3,
   "metadata": {},
   "outputs": [],
   "source": [
    "# Platinum\n",
    "length_Pt   = 10*u.nm\n",
    "n_Pt        = 1.7176+2.844j # at 400nm\n",
    "k_el_Pt     = 72*u.W/(u.m*u.K)# Same for electrons and lattice\n",
    "rho_Pt      = 1e3*21*u.kg/(u.m**3)\n",
    "C_el_Pt     = lambda Te: (740*u.J/(u.m**3*u.K**2))/(1e3*21*u.kg/(u.m**3)) *Te\n",
    "C_lat_Pt    = 2.78e6*u.J/(u.m**3*u.K**2)/rho_Pt\n",
    "G_Pt        = 2.5e17*u.W/(u.m**3*u.K) \n",
    "\n",
    "# Silicon\n",
    "n_Si        = 5.5674+0.38612j #at 400nm\n",
    "k_el_Si     = 130#W/(m*K);\n",
    "k_lat_Si    = lambda T: np.piecewise(T,[T<=120.7,T>120.7],\\\n",
    "                                      [lambda T: 100*(0.09*T**3*(0.016*np.exp(-0.05*T)+np.exp(-0.14*T))), \n",
    "                                       lambda T: 100*(13*1e3*T**(-1.6))])\n",
    "rho_Si      = 2.32e3#kg/(m**3)\n",
    "C_el_Si     = lambda Te: 150/rho_Si *Te\n",
    "C_lat_Si    = 1.6e6/rho_Si\n",
    "G_Si        = 1e17*18"
   ]
  },
  {
   "cell_type": "markdown",
   "metadata": {},
   "source": [
    "### Set up a simulation for a 2- System case\n",
    "\n",
    "Note that here the Platinum target layer and the Silicon substrate are very different in length. Still, the way the algorithm is designed, every layer will get a certain number of *collocation* points. Those can be uniformly changed by `sim.temp_data.collocpts = int_number`.\n",
    "However, the spacial resolution of Platinum is very high, with respect to the one of Silicon, simply because their length is so different."
   ]
  },
  {
   "cell_type": "code",
   "execution_count": 4,
   "metadata": {},
   "outputs": [
    {
     "name": "stdout",
     "output_type": "stream",
     "text": [
      "-----------------------------------------------------------\n",
      " No specific time constant has been indicated. \n",
      " The stability region has been calculated and an appropriate timestep has been chosen.\n",
      " Timestep = 5.37e-16 s\n",
      "-----------------------------------------------------------\n",
      "-----------------------------------------------------------\n",
      "Transfer matrix absorption profile and a Gaussian time profile is taken into account for the source.\n",
      "Length of every layer has to be given in units of meter.\n",
      "-----------------------------------------------------------\n"
     ]
    },
    {
     "name": "stderr",
     "output_type": "stream",
     "text": [
      "100%|██████████████████████████████████████████████████████████████████████████| 13040/13040 [00:04<00:00, 3131.65it/s]\n"
     ]
    },
    {
     "name": "stdout",
     "output_type": "stream",
     "text": [
      "-----------------------------------------------------------\n",
      "Heat diffusion in a coupled electron-lattice system has been simulated\n",
      "Eleapsed time in E.E.- loop: 4.173905372619629\n",
      "-----------------------------------------------------------\n"
     ]
    }
   ],
   "source": [
    "sim = ntm.simulation(2,s)\n",
    "#lengt,refractive index,conductivity[el,la],heatCapacity [el,lat],density,linearCoupling \n",
    "sim.addLayer(length_Pt,n_Pt,[k_el_Pt,k_el_Pt],[C_el_Pt,C_lat_Pt],rho_Pt,[G_Pt])  \n",
    "sim.addLayer(5000*u.nm,n_Si,[k_el_Si,k_lat_Si],[C_el_Si,C_lat_Si],rho_Si,[G_Si])\n",
    "sim.final_time = 7*u.ps\n",
    "[x,t,Tmap] = sim.run()\n",
    "T_e = Tmap[0]; T_l = Tmap[1] "
   ]
  },
  {
   "cell_type": "markdown",
   "metadata": {},
   "source": [
    "Now let us inspect the result, by exponentially giving weight to the averaged temperature and subtracting the initial temperature $T_{e,l}(x,t=0) = 300$, since we are only interested int he change $\\Delta T_e$ and $\\Delta T_l$. "
   ]
  },
  {
   "cell_type": "code",
   "execution_count": 5,
   "metadata": {},
   "outputs": [],
   "source": [
    "pen_depth = 10*u.nm #Optical penetration depth of probe laser\n",
    "exp_weights = np.exp(-x/pen_depth)\n",
    "avT_E_w = np.average(T_e,axis = 1, weights = exp_weights)\n",
    "avT_L_w = np.average(T_l,axis = 1, weights = exp_weights)\n",
    "avT_tot = (avT_E_w + avT_L_w - 600)"
   ]
  },
  {
   "cell_type": "code",
   "execution_count": 6,
   "metadata": {},
   "outputs": [
    {
     "data": {
      "image/png": "[encoded data removed]",
      "text/plain": [
       "<Figure size 432x288 with 1 Axes>"
      ]
     },
     "metadata": {
      "needs_background": "light"
     },
     "output_type": "display_data"
    }
   ],
   "source": [
    "plt.figure()\n",
    "plt.suptitle(\"Temperature dynamics averaged in space\",fontsize = 16)\n",
    "plt.title(\"Stack [10nm Pt|5000 nm Si]\")\n",
    "plt.xlabel(\"Time in ps\",fontsize = 16);\n",
    "plt.ylabel(r\"Weighted Temp. in K\",fontsize = 16)\n",
    "plt.plot(t*(1/u.ps),avT_tot,label = f\"Simulation\")\n",
    "plt.tick_params(axis='x', labelsize=14)\n",
    "plt.tick_params(axis='y', labelsize=14)\n",
    "plt.legend(loc = \"upper right\",fontsize = 16)\n",
    "plt.grid()"
   ]
  },
  {
   "cell_type": "markdown",
   "metadata": {},
   "source": [
    "Now let us consider the same simulation again **but** instead of only stacking up one \"long\" layer of the substrate, we **put multiple layers**, with increasing length after the Pt- target. \n",
    "\n",
    "This will increase the spatial resolution close to the Pt|Si- edge, where modeling the diffusion accurately is important since it is an important channel for the heat dynamics.  "
   ]
  },
  {
   "cell_type": "code",
   "execution_count": 7,
   "metadata": {},
   "outputs": [
    {
     "name": "stdout",
     "output_type": "stream",
     "text": [
      "-----------------------------------------------------------\n",
      " No specific time constant has been indicated. \n",
      " The stability region has been calculated and an appropriate timestep has been chosen.\n",
      " Timestep = 6.02e-17 s\n",
      "-----------------------------------------------------------\n",
      "-----------------------------------------------------------\n",
      "Transfer matrix absorption profile and a Gaussian time profile is taken into account for the source.\n",
      "Length of every layer has to be given in units of meter.\n",
      "-----------------------------------------------------------\n"
     ]
    },
    {
     "name": "stderr",
     "output_type": "stream",
     "text": [
      "100%|████████████████████████████████████████████████████████████████████████| 116283/116283 [01:48<00:00, 1069.05it/s]\n"
     ]
    },
    {
     "name": "stdout",
     "output_type": "stream",
     "text": [
      "-----------------------------------------------------------\n",
      "Heat diffusion in a coupled electron-lattice system has been simulated\n",
      "Eleapsed time in E.E.- loop: 108.77545142173767\n",
      "-----------------------------------------------------------\n"
     ]
    }
   ],
   "source": [
    "sim = ntm.simulation(2,s)\n",
    "sim.addLayer(length_Pt,n_Pt,[k_el_Pt,k_el_Pt],[C_el_Pt,C_lat_Pt],rho_Pt,[G_Pt])  \n",
    "sim.addLayer(10*u.nm,n_Si,[k_el_Si,k_lat_Si],[C_el_Si,C_lat_Si],rho_Si,[G_Si])\n",
    "sim.addLayer(20*u.nm,n_Si,[k_el_Si,k_lat_Si],[C_el_Si,C_lat_Si],rho_Si,[G_Si])\n",
    "sim.addLayer(100*u.nm,n_Si,[k_el_Si,k_lat_Si],[C_el_Si,C_lat_Si],rho_Si,[G_Si])\n",
    "sim.addLayer(4870*u.nm,n_Si,[k_el_Si,k_lat_Si],[C_el_Si,C_lat_Si],rho_Si,[G_Si])\n",
    "sim.final_time = 7*u.ps\n",
    "[x,t,Tmap] = sim.run()\n",
    "T_e = Tmap[0]; T_l = Tmap[1] "
   ]
  },
  {
   "cell_type": "code",
   "execution_count": 8,
   "metadata": {},
   "outputs": [
    {
     "data": {
      "image/png": "[encoded data removed]",
      "text/plain": [
       "<Figure size 432x288 with 1 Axes>"
      ]
     },
     "metadata": {
      "needs_background": "light"
     },
     "output_type": "display_data"
    }
   ],
   "source": [
    "pen_depth = 10*u.nm \n",
    "exp_weights = np.exp(-x/pen_depth)\n",
    "avT_E_w = np.average(T_e,axis = 1, weights = exp_weights)\n",
    "avT_L_w = np.average(T_l,axis = 1, weights = exp_weights)\n",
    "avT_tot = (avT_E_w + avT_L_w - 600)\n",
    "\n",
    "plt.figure()\n",
    "plt.suptitle(\"Temperature dynamics averaged in space\",fontsize = 16)\n",
    "plt.title(\"Stack [10nm Pt|10 nm Si|20 nm Si|100 nm Si|4870 nm Si]\")\n",
    "plt.xlabel(\"Time in ps\",fontsize = 16);\n",
    "plt.ylabel(r\"Weighted Temp. in K\",fontsize = 16)\n",
    "plt.plot(t*(1/u.ps),avT_tot,label = f\"Simulation\")\n",
    "plt.tick_params(axis='x', labelsize=14)\n",
    "plt.tick_params(axis='y', labelsize=14)\n",
    "plt.legend(loc = \"upper right\",fontsize = 16)\n",
    "plt.grid()"
   ]
  },
  {
   "cell_type": "markdown",
   "metadata": {},
   "source": [
    "As expected, now the averaged temperature decays faster after the laser excitation. This indicates that the relaxation of the system happens on a faster time scale,  which is due to more accurate modeling of the substrate layer, by dividing it into several **pice- wise homogeneous layers of the same type**.\n",
    "\n",
    "Note that further increase of resolution, i.e. either making the Silicon layers even smaller or putting more of the short Si- layers after the Pt- target, does not significantly change the result. This indicates that by this approach we can converge to the \"correct\" solution with respect to the physical nature of the problem. "
   ]
  }
 ],
 "metadata": {
  "kernelspec": {
   "display_name": "Python 3",
   "language": "python",
   "name": "python3"
  },
  "language_info": {
   "codemirror_mode": {
    "name": "ipython",
    "version": 3
   },
   "file_extension": ".py",
   "mimetype": "text/x-python",
   "name": "python",
   "nbconvert_exporter": "python",
   "pygments_lexer": "ipython3",
   "version": "3.7.4"
  }
 },
 "nbformat": 4,
 "nbformat_minor": 2
}
